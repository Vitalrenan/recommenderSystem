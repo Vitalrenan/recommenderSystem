{
 "cells": [
  {
   "cell_type": "code",
   "execution_count": null,
   "metadata": {},
   "outputs": [],
   "source": [
    "import pandas as pd\n",
    "import matplotlib.pyplot as plt\n",
    "%matplotlib inline\n",
    "from tqdm import tqdm\n",
    "tqdm.pandas()\n",
    "from openai import OpenAI\n",
    "import os\n",
    "\n",
    "pd.set_option('display.max_columns',None)"
   ]
  },
  {
   "cell_type": "markdown",
   "metadata": {},
   "source": [
    "<h3> 1. Importing ABT</h3>"
   ]
  },
  {
   "cell_type": "code",
   "execution_count": 5,
   "metadata": {},
   "outputs": [
    {
     "data": {
      "text/html": [
       "<div>\n",
       "<style scoped>\n",
       "    .dataframe tbody tr th:only-of-type {\n",
       "        vertical-align: middle;\n",
       "    }\n",
       "\n",
       "    .dataframe tbody tr th {\n",
       "        vertical-align: top;\n",
       "    }\n",
       "\n",
       "    .dataframe thead th {\n",
       "        text-align: right;\n",
       "    }\n",
       "</style>\n",
       "<table border=\"1\" class=\"dataframe\">\n",
       "  <thead>\n",
       "    <tr style=\"text-align: right;\">\n",
       "      <th></th>\n",
       "      <th>USER_ID</th>\n",
       "      <th>FK_GAME_NAME</th>\n",
       "      <th>GAMEPLAY_HOURS</th>\n",
       "      <th>release_from_now</th>\n",
       "      <th>Estimated owners</th>\n",
       "      <th>Peak CCU</th>\n",
       "      <th>Price</th>\n",
       "      <th>DLC count</th>\n",
       "      <th>About the game</th>\n",
       "      <th>Supported languages</th>\n",
       "      <th>Reviews</th>\n",
       "      <th>Achievements</th>\n",
       "      <th>Recommendations</th>\n",
       "      <th>Notes</th>\n",
       "      <th>Categories</th>\n",
       "      <th>Genres</th>\n",
       "      <th>Tags</th>\n",
       "    </tr>\n",
       "  </thead>\n",
       "  <tbody>\n",
       "    <tr>\n",
       "      <th>2397</th>\n",
       "      <td>101369449</td>\n",
       "      <td>zombiepanicsource</td>\n",
       "      <td>395.0</td>\n",
       "      <td>5987.0</td>\n",
       "      <td>750000.0</td>\n",
       "      <td>43</td>\n",
       "      <td>0.0</td>\n",
       "      <td>1</td>\n",
       "      <td>Dive into the zombie apocalypse with Zombie Pa...</td>\n",
       "      <td>['English', 'Russian', 'French', 'Italian', 'G...</td>\n",
       "      <td>“The thrill of fending off a zombie hoard who ...</td>\n",
       "      <td>106</td>\n",
       "      <td>0</td>\n",
       "      <td>None</td>\n",
       "      <td>Multi-player,PvP,Online PvP,Co-op,Online Co-op...</td>\n",
       "      <td>Action,Casual,Free to Play,Indie</td>\n",
       "      <td>Free to Play,Zombies,Multiplayer,Action,Surviv...</td>\n",
       "    </tr>\n",
       "  </tbody>\n",
       "</table>\n",
       "</div>"
      ],
      "text/plain": [
       "        USER_ID       FK_GAME_NAME  GAMEPLAY_HOURS  release_from_now  \\\n",
       "2397  101369449  zombiepanicsource           395.0            5987.0   \n",
       "\n",
       "      Estimated owners  Peak CCU  Price  DLC count  \\\n",
       "2397          750000.0        43    0.0          1   \n",
       "\n",
       "                                         About the game  \\\n",
       "2397  Dive into the zombie apocalypse with Zombie Pa...   \n",
       "\n",
       "                                    Supported languages  \\\n",
       "2397  ['English', 'Russian', 'French', 'Italian', 'G...   \n",
       "\n",
       "                                                Reviews  Achievements  \\\n",
       "2397  “The thrill of fending off a zombie hoard who ...           106   \n",
       "\n",
       "      Recommendations Notes  \\\n",
       "2397                0  None   \n",
       "\n",
       "                                             Categories  \\\n",
       "2397  Multi-player,PvP,Online PvP,Co-op,Online Co-op...   \n",
       "\n",
       "                                Genres  \\\n",
       "2397  Action,Casual,Free to Play,Indie   \n",
       "\n",
       "                                                   Tags  \n",
       "2397  Free to Play,Zombies,Multiplayer,Action,Surviv...  "
      ]
     },
     "execution_count": 5,
     "metadata": {},
     "output_type": "execute_result"
    }
   ],
   "source": [
    "df_feat = pd.read_parquet('../data/02_pre_proc/ABT_feats.parquet')\n",
    "df_feat.sample()"
   ]
  },
  {
   "cell_type": "code",
   "execution_count": 7,
   "metadata": {},
   "outputs": [
    {
     "data": {
      "text/plain": [
       "<Axes: >"
      ]
     },
     "execution_count": 7,
     "metadata": {},
     "output_type": "execute_result"
    },
    {
     "data": {
      "image/png": "[encoded data removed]",
      "text/plain": [
       "<Figure size 640x480 with 1 Axes>"
      ]
     },
     "metadata": {},
     "output_type": "display_data"
    }
   ],
   "source": [
    "gb = df_feat.groupby('USER_ID')['FK_GAME_NAME'].count().reset_index().sort_values('FK_GAME_NAME',ascending=False)\n",
    "gb.FK_GAME_NAME.hist(bins=50)"
   ]
  },
  {
   "cell_type": "code",
   "execution_count": 8,
   "metadata": {},
   "outputs": [
    {
     "name": "stdout",
     "output_type": "stream",
     "text": [
      "Alunos pós filtro:  861\n"
     ]
    },
    {
     "data": {
      "text/plain": [
       "<Axes: >"
      ]
     },
     "execution_count": 8,
     "metadata": {},
     "output_type": "execute_result"
    },
    {
     "data": {
      "image/png": "[encoded data removed]",
      "text/plain": [
       "<Figure size 640x480 with 1 Axes>"
      ]
     },
     "metadata": {},
     "output_type": "display_data"
    }
   ],
   "source": [
    "#Filtering customers with more than 15  and less than 60 purchased games \n",
    "gb=gb[(gb.FK_GAME_NAME>15)&(gb.FK_GAME_NAME<60)]\n",
    "print(\"Alunos pós filtro: \",gb.shape[0])\n",
    "gb.FK_GAME_NAME.hist(bins=50)"
   ]
  },
  {
   "cell_type": "code",
   "execution_count": 9,
   "metadata": {},
   "outputs": [
    {
     "data": {
      "text/plain": [
       "861"
      ]
     },
     "execution_count": 9,
     "metadata": {},
     "output_type": "execute_result"
    }
   ],
   "source": [
    "#filtro sobre a ABT\n",
    "df_feat = df_feat[df_feat.USER_ID.isin(gb.USER_ID)]\n",
    "df_feat.USER_ID.nunique()"
   ]
  },
  {
   "cell_type": "code",
   "execution_count": 10,
   "metadata": {},
   "outputs": [
    {
     "data": {
      "text/plain": [
       "(25000, 17)"
      ]
     },
     "execution_count": 10,
     "metadata": {},
     "output_type": "execute_result"
    }
   ],
   "source": [
    "df_feat.shape"
   ]
  },
  {
   "cell_type": "code",
   "execution_count": null,
   "metadata": {},
   "outputs": [],
   "source": [
    "client = OpenAI(api_key = os.getenv('openai_apikey'))\n",
    "model=\"text-embedding-3-small\"\n",
    " \n",
    "def generate_embeddings(text, client, model):\n",
    "    text=[text]\n",
    "    response = client.embeddings.create(\n",
    "        input = text,\n",
    "        model=model).data[0].embedding\n",
    "    embeddings = response['data'][0]['embedding']\n",
    "    return embeddings\n",
    "\n",
    "embedding_feats=['About the game','Supported languages','Reviews','Categories','Genres','Tags']\n",
    "for col in embedding_feats:\n",
    "    print(col)\n",
    "    df_feat[col] = df_feat[col].fillna(f'Sem dados de {col}')\n",
    "    df_feat[col] = df_feat[col].astype(str)\n",
    "    df_feat[col] = df_feat[col].progress_apply(lambda x: generate_embeddings(x, client, model))"
   ]
  },
  {
   "cell_type": "code",
   "execution_count": null,
   "metadata": {},
   "outputs": [],
   "source": [
    "#df_feat.to_parquet('../data/03_refined/ABT_feats_aboutgame.parquet')"
   ]
  },
  {
   "cell_type": "code",
   "execution_count": 13,
   "metadata": {},
   "outputs": [
    {
     "data": {
      "text/html": [
       "<div>\n",
       "<style scoped>\n",
       "    .dataframe tbody tr th:only-of-type {\n",
       "        vertical-align: middle;\n",
       "    }\n",
       "\n",
       "    .dataframe tbody tr th {\n",
       "        vertical-align: top;\n",
       "    }\n",
       "\n",
       "    .dataframe thead th {\n",
       "        text-align: right;\n",
       "    }\n",
       "</style>\n",
       "<table border=\"1\" class=\"dataframe\">\n",
       "  <thead>\n",
       "    <tr style=\"text-align: right;\">\n",
       "      <th></th>\n",
       "      <th>USER_ID</th>\n",
       "      <th>FK_GAME_NAME</th>\n",
       "      <th>GAMEPLAY_HOURS</th>\n",
       "      <th>release_from_now</th>\n",
       "      <th>Estimated owners</th>\n",
       "      <th>Peak CCU</th>\n",
       "      <th>Price</th>\n",
       "      <th>DLC count</th>\n",
       "      <th>About the game</th>\n",
       "      <th>Supported languages</th>\n",
       "      <th>Reviews</th>\n",
       "      <th>Achievements</th>\n",
       "      <th>Recommendations</th>\n",
       "      <th>Notes</th>\n",
       "      <th>Categories</th>\n",
       "      <th>Genres</th>\n",
       "      <th>Tags</th>\n",
       "    </tr>\n",
       "  </thead>\n",
       "  <tbody>\n",
       "    <tr>\n",
       "      <th>12770</th>\n",
       "      <td>69856757</td>\n",
       "      <td>sidmeierscivilizationv</td>\n",
       "      <td>84.0</td>\n",
       "      <td>5269.0</td>\n",
       "      <td>7500000.0</td>\n",
       "      <td>21665</td>\n",
       "      <td>29.99</td>\n",
       "      <td>15</td>\n",
       "      <td>[-0.015705469995737076, 0.03073655255138874, 0...</td>\n",
       "      <td>[-0.08260183781385422, -0.001638168003410101, ...</td>\n",
       "      <td>None</td>\n",
       "      <td>286</td>\n",
       "      <td>113301</td>\n",
       "      <td>None</td>\n",
       "      <td>Single-player,Multi-player,Steam Achievements,...</td>\n",
       "      <td>Strategy</td>\n",
       "      <td>Turn-Based Strategy,Strategy,Turn-Based,Multip...</td>\n",
       "    </tr>\n",
       "  </tbody>\n",
       "</table>\n",
       "</div>"
      ],
      "text/plain": [
       "        USER_ID            FK_GAME_NAME  GAMEPLAY_HOURS  release_from_now  \\\n",
       "12770  69856757  sidmeierscivilizationv            84.0            5269.0   \n",
       "\n",
       "       Estimated owners  Peak CCU  Price  DLC count  \\\n",
       "12770         7500000.0     21665  29.99         15   \n",
       "\n",
       "                                          About the game  \\\n",
       "12770  [-0.015705469995737076, 0.03073655255138874, 0...   \n",
       "\n",
       "                                     Supported languages Reviews  \\\n",
       "12770  [-0.08260183781385422, -0.001638168003410101, ...    None   \n",
       "\n",
       "       Achievements  Recommendations Notes  \\\n",
       "12770           286           113301  None   \n",
       "\n",
       "                                              Categories    Genres  \\\n",
       "12770  Single-player,Multi-player,Steam Achievements,...  Strategy   \n",
       "\n",
       "                                                    Tags  \n",
       "12770  Turn-Based Strategy,Strategy,Turn-Based,Multip...  "
      ]
     },
     "execution_count": 13,
     "metadata": {},
     "output_type": "execute_result"
    }
   ],
   "source": [
    "df_feat = pd.read_parquet('../data/03_refined/ABT_feats_supported_lang.parquet')\n",
    "df_feat.sample()"
   ]
  },
  {
   "cell_type": "code",
   "execution_count": null,
   "metadata": {},
   "outputs": [],
   "source": []
  }
 ],
 "metadata": {
  "kernelspec": {
   "display_name": "recommender",
   "language": "python",
   "name": "python3"
  },
  "language_info": {
   "codemirror_mode": {
    "name": "ipython",
    "version": 3
   },
   "file_extension": ".py",
   "mimetype": "text/x-python",
   "name": "python",
   "nbconvert_exporter": "python",
   "pygments_lexer": "ipython3",
   "version": "3.13.2"
  }
 },
 "nbformat": 4,
 "nbformat_minor": 2
}
