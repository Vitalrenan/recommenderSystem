{
 "cells": [
  {
   "cell_type": "code",
   "execution_count": null,
   "metadata": {},
   "outputs": [],
   "source": [
    "import pandas as pd\n",
    "import matplotlib.pyplot as plt\n",
    "%matplotlib inline\n",
    "from tqdm import tqdm\n",
    "tqdm.pandas()\n",
    "from openai import OpenAI\n",
    "import os\n",
    "\n",
    "from langchain_openai import OpenAIEmbeddings\n",
    "import faiss\n",
    "from langchain_community.docstore.in_memory import InMemoryDocstore\n",
    "from langchain_community.vectorstores import FAISS\n",
    "from langchain_core.documents import Document\n",
    "\n",
    "pd.set_option('display.max_columns',None)"
   ]
  },
  {
   "cell_type": "markdown",
   "metadata": {},
   "source": [
    "<h3> 1. Importing ABT</h3>"
   ]
  },
  {
   "cell_type": "code",
   "execution_count": 31,
   "metadata": {},
   "outputs": [
    {
     "data": {
      "text/html": [
       "<div>\n",
       "<style scoped>\n",
       "    .dataframe tbody tr th:only-of-type {\n",
       "        vertical-align: middle;\n",
       "    }\n",
       "\n",
       "    .dataframe tbody tr th {\n",
       "        vertical-align: top;\n",
       "    }\n",
       "\n",
       "    .dataframe thead th {\n",
       "        text-align: right;\n",
       "    }\n",
       "</style>\n",
       "<table border=\"1\" class=\"dataframe\">\n",
       "  <thead>\n",
       "    <tr style=\"text-align: right;\">\n",
       "      <th></th>\n",
       "      <th>USER_ID</th>\n",
       "      <th>FK_GAME_NAME</th>\n",
       "      <th>GAMEPLAY_HOURS</th>\n",
       "      <th>release_from_now</th>\n",
       "      <th>Estimated owners</th>\n",
       "      <th>Peak CCU</th>\n",
       "      <th>Price</th>\n",
       "      <th>DLC count</th>\n",
       "      <th>About the game</th>\n",
       "      <th>Supported languages</th>\n",
       "      <th>Reviews</th>\n",
       "      <th>Achievements</th>\n",
       "      <th>Recommendations</th>\n",
       "      <th>Notes</th>\n",
       "      <th>Categories</th>\n",
       "      <th>Genres</th>\n",
       "      <th>Tags</th>\n",
       "    </tr>\n",
       "  </thead>\n",
       "  <tbody>\n",
       "    <tr>\n",
       "      <th>3286</th>\n",
       "      <td>101487265</td>\n",
       "      <td>freestyle2streetbasketball</td>\n",
       "      <td>15.8</td>\n",
       "      <td>3616.0</td>\n",
       "      <td>7500000.0</td>\n",
       "      <td>391</td>\n",
       "      <td>0.0</td>\n",
       "      <td>15</td>\n",
       "      <td>Freestyle 2 is the Ultimate Online Street Bask...</td>\n",
       "      <td>['English', 'German', 'French', 'Thai', 'Japan...</td>\n",
       "      <td>“Freestyle 2 is an incredibly polished basketb...</td>\n",
       "      <td>0</td>\n",
       "      <td>150</td>\n",
       "      <td>None</td>\n",
       "      <td>Multi-player,MMO,PvP,Online PvP,Co-op,Online C...</td>\n",
       "      <td>Action,Casual,Free to Play,Massively Multiplay...</td>\n",
       "      <td>Free to Play,Basketball,Sports,Multiplayer,Mas...</td>\n",
       "    </tr>\n",
       "  </tbody>\n",
       "</table>\n",
       "</div>"
      ],
      "text/plain": [
       "        USER_ID                FK_GAME_NAME  GAMEPLAY_HOURS  release_from_now  \\\n",
       "3286  101487265  freestyle2streetbasketball            15.8            3616.0   \n",
       "\n",
       "      Estimated owners  Peak CCU  Price  DLC count  \\\n",
       "3286         7500000.0       391    0.0         15   \n",
       "\n",
       "                                         About the game  \\\n",
       "3286  Freestyle 2 is the Ultimate Online Street Bask...   \n",
       "\n",
       "                                    Supported languages  \\\n",
       "3286  ['English', 'German', 'French', 'Thai', 'Japan...   \n",
       "\n",
       "                                                Reviews  Achievements  \\\n",
       "3286  “Freestyle 2 is an incredibly polished basketb...             0   \n",
       "\n",
       "      Recommendations Notes  \\\n",
       "3286              150  None   \n",
       "\n",
       "                                             Categories  \\\n",
       "3286  Multi-player,MMO,PvP,Online PvP,Co-op,Online C...   \n",
       "\n",
       "                                                 Genres  \\\n",
       "3286  Action,Casual,Free to Play,Massively Multiplay...   \n",
       "\n",
       "                                                   Tags  \n",
       "3286  Free to Play,Basketball,Sports,Multiplayer,Mas...  "
      ]
     },
     "execution_count": 31,
     "metadata": {},
     "output_type": "execute_result"
    }
   ],
   "source": [
    "df_feat = pd.read_parquet('../data/02_pre_proc/ABT_feats.parquet')\n",
    "df_feat.sample()"
   ]
  },
  {
   "cell_type": "code",
   "execution_count": 32,
   "metadata": {},
   "outputs": [
    {
     "name": "stdout",
     "output_type": "stream",
     "text": [
      "3455\n"
     ]
    }
   ],
   "source": [
    "print(df_feat.FK_GAME_NAME.nunique())\n",
    "df_content = df_feat.drop_duplicates(subset=['FK_GAME_NAME'])\n",
    "df_train = df_content.sample(2000, random_state=1)\n",
    "df_validation = df_content[~df_content.FK_GAME_NAME.isin(df_train.FK_GAME_NAME)]"
   ]
  },
  {
   "cell_type": "code",
   "execution_count": null,
   "metadata": {},
   "outputs": [],
   "source": [
    "embeddings = OpenAIEmbeddings(\n",
    "    model=\"text-embedding-3-large\",\n",
    "    api_key=os.getenv('openai_apikey')\n",
    "    )\n",
    "\n",
    "index = faiss.IndexFlatL2(len(embeddings.embed_query(\"hello world\")))\n",
    "\n",
    "vector_store = FAISS(\n",
    "    embedding_function=embeddings,\n",
    "    index=index,\n",
    "    docstore=InMemoryDocstore(),\n",
    "    index_to_docstore_id={},\n",
    ")\n",
    "\n",
    "doc_list=[]\n",
    "index_list=[]\n",
    "for i in df_train.iterrows():\n",
    "    about = i[1]['About the game']\n",
    "    category = i[1]['Categories']\n",
    "    tags = i[1]['Tags']\n",
    "    ID = i[1]['FK_GAME_NAME']\n",
    "\n",
    "\n",
    "    doc = Document(\n",
    "        page_content=str(about),\n",
    "        metadata={\n",
    "            \"category\": str(category),\n",
    "            \"tags\": str(tags)\n",
    "            }\n",
    "        )\n",
    "    doc_list.append(doc)\n",
    "    index_list.append(ID)\n",
    "    \n",
    "vector_store.add_documents(\n",
    "  documents = doc_list,\n",
    "  ids=index_list\n",
    "  )"
   ]
  },
  {
   "cell_type": "code",
   "execution_count": null,
   "metadata": {},
   "outputs": [],
   "source": [
    "teste = df_feat[\n",
    "    df_feat.USER_ID==df_train.USER_ID.sample().item()\n",
    "]\n",
    "game_teste = teste.FK_GAME_NAME.unique().sample()\n",
    "\n",
    "about = teste[teste.FK_GAME_NAME==game_teste]['About the game'].item()\n",
    "category = teste[teste.FK_GAME_NAME==game_teste]['Categories'].item()\n",
    "tags = teste[teste.FK_GAME_NAME==game_teste]['Tags'].item()\n",
    "\n",
    "print('>>Inference:','\\nGame:',game_teste, '\\nAbout:',about,'\\ncategory',category,'\\ntags',tags)\n",
    "teste.FK_GAME_NAME.unique()"
   ]
  },
  {
   "cell_type": "code",
   "execution_count": null,
   "metadata": {},
   "outputs": [],
   "source": [
    "results = vector_store.similarity_search(\n",
    "    str(about),\n",
    "    k=6\n",
    "    )\n",
    "\n",
    "[i.id for i  in results[1:]]"
   ]
  },
  {
   "cell_type": "code",
   "execution_count": null,
   "metadata": {},
   "outputs": [],
   "source": []
  },
  {
   "cell_type": "code",
   "execution_count": null,
   "metadata": {},
   "outputs": [
    {
     "ename": "AttributeError",
     "evalue": "'Embeddings' object has no attribute 'embed_query'",
     "output_type": "error",
     "traceback": [
      "\u001b[1;31m---------------------------------------------------------------------------\u001b[0m",
      "\u001b[1;31mAttributeError\u001b[0m                            Traceback (most recent call last)",
      "Cell \u001b[1;32mIn[20], line 3\u001b[0m\n\u001b[0;32m      1\u001b[0m vector_store \u001b[38;5;241m=\u001b[39m FAISS(\n\u001b[0;32m      2\u001b[0m             embedding_function\u001b[38;5;241m=\u001b[39mclient\u001b[38;5;241m.\u001b[39membeddings,\n\u001b[1;32m----> 3\u001b[0m             index\u001b[38;5;241m=\u001b[39mfaiss\u001b[38;5;241m.\u001b[39mIndexFlatL2(\u001b[38;5;28mlen\u001b[39m(\u001b[43mclient\u001b[49m\u001b[38;5;241;43m.\u001b[39;49m\u001b[43membeddings\u001b[49m\u001b[38;5;241;43m.\u001b[39;49m\u001b[43membed_query\u001b[49m(\u001b[38;5;124m\"\u001b[39m\u001b[38;5;124mhello world\u001b[39m\u001b[38;5;124m\"\u001b[39m))),\n\u001b[0;32m      4\u001b[0m             docstore\u001b[38;5;241m=\u001b[39mInMemoryDocstore(),\n\u001b[0;32m      5\u001b[0m             index_to_docstore_id\u001b[38;5;241m=\u001b[39m{})\n",
      "\u001b[1;31mAttributeError\u001b[0m: 'Embeddings' object has no attribute 'embed_query'"
     ]
    }
   ],
   "source": [
    "vector_store = FAISS(\n",
    "            embedding_function=client.embeddings,\n",
    "            index=,\n",
    "            docstore=InMemoryDocstore(),\n",
    "            index_to_docstore_id={})"
   ]
  },
  {
   "cell_type": "code",
   "execution_count": null,
   "metadata": {},
   "outputs": [],
   "source": [
    "vector_store = FAISS(\n",
    "            embedding_function=embeddings,\n",
    "            index=faiss.IndexFlatL2(len(embeddings.embed_query(\"hello world\"))),\n",
    "            docstore=InMemoryDocstore(),\n",
    "            index_to_docstore_id={})\n",
    "\n",
    "vector_store.add_documents(\n",
    "    documents=[Document(i) for i in dict_conteudo[LU].values()],\n",
    "    ids=list(dict_conteudo[LU].keys()))\n",
    "\n",
    "results = vector_store.similarity_search(questao_texto, k=2)"
   ]
  },
  {
   "cell_type": "code",
   "execution_count": null,
   "metadata": {},
   "outputs": [],
   "source": [
    "client = OpenAI(api_key = os.getenv('openai_apikey'))\n",
    "model=\"text-embedding-3-small\"\n",
    " \n",
    "def generate_embeddings(text, client, model):\n",
    "    text=[text]\n",
    "    response = client.embeddings.create(\n",
    "        input = text,\n",
    "        model=model).data[0].embedding\n",
    "    embeddings = response['data'][0]['embedding']\n",
    "    return embeddings\n",
    "\n",
    "embedding_feats=['About the game','Supported languages','Reviews','Categories','Genres','Tags']\n",
    "for col in embedding_feats:\n",
    "    print(col)\n",
    "    df_feat[col] = df_feat[col].fillna(f'Sem dados de {col}')\n",
    "    df_feat[col] = df_feat[col].astype(str)\n",
    "    df_feat[col] = df_feat[col].progress_apply(lambda x: generate_embeddings(x, client, model))"
   ]
  },
  {
   "cell_type": "code",
   "execution_count": null,
   "metadata": {},
   "outputs": [],
   "source": []
  }
 ],
 "metadata": {
  "kernelspec": {
   "display_name": "recommender",
   "language": "python",
   "name": "python3"
  },
  "language_info": {
   "codemirror_mode": {
    "name": "ipython",
    "version": 3
   },
   "file_extension": ".py",
   "mimetype": "text/x-python",
   "name": "python",
   "nbconvert_exporter": "python",
   "pygments_lexer": "ipython3",
   "version": "3.13.2"
  }
 },
 "nbformat": 4,
 "nbformat_minor": 2
}
