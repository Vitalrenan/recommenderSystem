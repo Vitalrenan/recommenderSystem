{
 "cells": [
  {
   "cell_type": "markdown",
   "metadata": {
    "id": "AZpLR1UJcYu1"
   },
   "source": [
    "# 05 Recommender function:"
   ]
  },
  {
   "cell_type": "code",
   "execution_count": 2,
   "metadata": {
    "executionInfo": {
     "elapsed": 925,
     "status": "ok",
     "timestamp": 1740681276987,
     "user": {
      "displayName": "Renan Vital",
      "userId": "08386351516551531286"
     },
     "user_tz": 180
    },
    "id": "1ztjSxVutoHA"
   },
   "outputs": [],
   "source": [
    "import pandas as pd\n",
    "import matplotlib.pyplot as plt\n",
    "%matplotlib inline\n",
    "from tqdm import tqdm\n",
    "tqdm.pandas()\n",
    "from openai import OpenAI\n",
    "\n",
    "import os\n",
    "import re\n",
    "import ast\n",
    "import random\n",
    "import numpy as np\n",
    "\n",
    "from langchain_openai import OpenAIEmbeddings\n",
    "import faiss\n",
    "from langchain_community.docstore.in_memory import InMemoryDocstore\n",
    "from langchain_community.vectorstores import FAISS\n",
    "from langchain_core.documents import Document\n",
    "pd.set_option('display.max_columns',None)"
   ]
  },
  {
   "cell_type": "code",
   "execution_count": null,
   "metadata": {
    "executionInfo": {
     "elapsed": 481,
     "status": "ok",
     "timestamp": 1740681279928,
     "user": {
      "displayName": "Renan Vital",
      "userId": "08386351516551531286"
     },
     "user_tz": 180
    },
    "id": "vxluPbtrTdGM"
   },
   "outputs": [],
   "source": [
    "embeddings = OpenAIEmbeddings(\n",
    "    model=\"text-embedding-3-large\",\n",
    "    api_key='')"
   ]
  },
  {
   "cell_type": "markdown",
   "metadata": {
    "id": "TzqyOWeccjvn"
   },
   "source": [
    "<h3>Importing vectorized databases and instatiating Faiss model</h3>"
   ]
  },
  {
   "cell_type": "code",
   "execution_count": 5,
   "metadata": {
    "executionInfo": {
     "elapsed": 102,
     "status": "ok",
     "timestamp": 1740686066724,
     "user": {
      "displayName": "Renan Vital",
      "userId": "08386351516551531286"
     },
     "user_tz": 180
    },
    "id": "W8mlaNI11xaa"
   },
   "outputs": [],
   "source": [
    "VS_content_based = FAISS.load_local(\n",
    "    \"../data/04_vector_store/VS_collab_based\", embeddings, allow_dangerous_deserialization=True\n",
    ")\n",
    "\n",
    "VS_collab_based = FAISS.load_local(\n",
    "    \"../data/04_vector_store/VS_content_based\", embeddings, allow_dangerous_deserialization=True\n",
    ")"
   ]
  },
  {
   "cell_type": "code",
   "execution_count": 161,
   "metadata": {
    "executionInfo": {
     "elapsed": 19,
     "status": "ok",
     "timestamp": 1740690108152,
     "user": {
      "displayName": "Renan Vital",
      "userId": "08386351516551531286"
     },
     "user_tz": 180
    },
    "id": "x-MpLzoR3usf"
   },
   "outputs": [],
   "source": [
    "#User from validation DS - USER_ID = 994489\n",
    "purchased_games = [\n",
    " 'counterstrikeglobaloffensive', 'deathmatchclassic', 'dayofdefeat',\n",
    " 'cthulhusavestheworld', 'aiwarfleetcommand', 'counterstrike',\n",
    " 'chernobylcommando', 'breathofdeathvii', 'dota2', 'hackerevolution',\n",
    " 'halflife', 'halflifeopposingforce', 'huntsmantheorphanagehalloweenedition',\n",
    " 'raceroomracingexperience', 'ricochet', 'scourgeoutbreak',\n",
    " 'teamfortressclassic', 'halflifeblueshift'\n",
    " ]\n",
    "\n",
    "New_inference = [\n",
    "  'counterstrikeglobaloffensive', 'deathmatchclassic', 'dayofdefeat',\n",
    "  'cthulhusavestheworld', 'aiwarfleetcommand', 'counterstrike',\n",
    "  'chernobylcommando', 'breathofdeathvii', 'dota2', 'hackerevolution'\n",
    "]\n",
    "\n",
    "label = [\n",
    " 'halflife', 'halflifeopposingforce', 'huntsmantheorphanagehalloweenedition',\n",
    " 'raceroomracingexperience', 'ricochet', 'scourgeoutbreak',\n",
    " 'teamfortressclassic', 'halflifeblueshift'\n",
    "]\n",
    "\n",
    "#Inference games description\n",
    "explicative_features_inference=\"Free to Play,MOBA,Multiplayer,Strategy,e-sports,Team-Based,Competitive,Action,Online Co-Op,PvP,Difficult,Co-op,RTS,Tower Defense,Fantasy,RPG,Character Customization,Replay Value,Action RPG,Simulation|Multi-player,Co-op,Steam Trading Cards,Steam Workshop,SteamVR Collectibles,In-App Purchases,Valve Anti-Cheat enabled|[No descriptionBulgarianNo description, No descriptionCzechNo description, No descriptionDanishNo description, No descriptionDutchNo description, No descriptionEnglishNo description, No descriptionFinnishNo description, No descriptionFrenchNo description, No descriptionGermanNo description, No descriptionGreekNo description, No descriptionHungarianNo description, No descriptionItalianNo description, No descriptionJapaneseNo description, No descriptionKoreanNo description, No descriptionNorwegianNo description, No descriptionPolishNo description, No descriptionPortugueseNo description, No descriptionPortuguese - BrazilNo description, No descriptionRomanianNo description, No descriptionRussianNo description, No descriptionSimplified ChineseNo description, No descriptionSpanish - SpainNo description, No descriptionSwedishNo description, No descriptionThaiNo description, No descriptionTraditional ChineseNo description, No descriptionTurkishNo description, No descriptionUkrainianNo description, No descriptionSpanish - Latin AmericaNo description, No descriptionVietnameseNo description]|150000000.0|0.0 FPS,Shooter,Multiplayer,Competitive,Action,Team-Based,e-sports,Tactical,First-Person,PvP,Online Co-Op,Co-op,Strategy,Military,War,Difficult,Trading,Realistic,Fast-Paced,Moddable|Multi-player,Steam Achievements,Full controller support,Steam Trading Cards,Steam Workshop,In-App Purchases,Valve Anti-Cheat enabled,Stats,Remote Play on Phone,Remote Play on Tablet,Remote Play on TV|[No descriptionCzechNo description, No descriptionDanishNo description, No descriptionDutchNo description, No descriptionEnglishNo description, No descriptionFinnishNo description, No descriptionFrenchNo description, No descriptionGermanNo description, No descriptionHungarianNo description, No descriptionItalianNo description, No descriptionJapaneseNo description, No descriptionKoreanNo description, No descriptionNorwegianNo description, No descriptionPolishNo description, No descriptionPortugueseNo description, No descriptionPortuguese - BrazilNo description, No descriptionRomanianNo description, No descriptionRussianNo description, No descriptionSimplified ChineseNo description, No descriptionSpanish - SpainNo description, No descriptionSwedishNo description, No descriptionThaiNo description, No descriptionTraditional ChineseNo description, No descriptionTurkishNo description, No descriptionBulgarianNo description, No descriptionUkrainianNo description, No descriptionGreekNo description, No descriptionSpanish - Latin AmericaNo description, No descriptionVietnameseNo description]|75000000.0|0.0 Action,FPS,Multiplayer,Shooter,Classic,Team-Based,First-Person,Competitive,Tactical,e-sports,1990No descriptions,PvP,Old School,Military,Strategy,Survival,Score Attack,1980s,Assassin,Nostalgia|Multi-player,PvP,Online PvP,Shared/Split Screen PvP,Valve Anti-Cheat enabled|[No descriptionEnglishNo description, No descriptionFrenchNo description, No descriptionGermanNo description, No descriptionItalianNo description, No descriptionSpanish - SpainNo description, No descriptionSimplified ChineseNo description, No descriptionTraditional ChineseNo description, No descriptionKoreanNo description]|15000000.0|9.99 Simulation,Hacking,Puzzle,Singleplayer,Text-Based,Strategy,Cyberpunk,Difficult,Indie,Action,Education,Exploration,Immersive Sim,Typing,2D,Minimalist,Funny,Tactical,Anime,Free to Play|Single-player,Steam Trading Cards|[No descriptionEnglishNo description]|350000.0|0.54 Action,FPS,Classic,Multiplayer,Shooter,First-Person,Arena Shooter,Old School,Sci-fi,Competitive,Fast-Paced,Retro,Gore,Co-op,Difficult,1990No descriptions|Multi-player,PvP,Online PvP,Shared/Split Screen PvP,Valve Anti-Cheat enabled,Remote Play Together|[No descriptionEnglishNo description, No descriptionFrenchNo description, No descriptionGermanNo description, No descriptionItalianNo description, No descriptionSpanish - SpainNo description, No descriptionKoreanNo description, No descriptionRussianNo description, No descriptionSimplified ChineseNo description, No descriptionTraditional ChineseNo description]|7500000.0|4.99 FPS,World War II,Multiplayer,Shooter,Action,War,Team-Based,Classic,First-Person,Class-Based,Military,Historical,Tactical,Singleplayer,Co-op,Difficult,Old School,Retro,World War I,Strategy|Multi-player,Valve Anti-Cheat enabled|[No descriptionEnglishNo description, No descriptionFrenchNo description, No descriptionGermanNo description, No descriptionItalianNo description, No descriptionSpanish - SpainNo description]|7500000.0|4.99 Strategy,RTS,Space,Indie,Sci-fi,Co-op,4X,Grand Strategy,Difficult,Tactical,Great Soundtrack,Singleplayer,Multiplayer,Tower Defense,Simulation,2D,Replay Value,Real-Time with Pause,Cult Classic,Classic|Single-player,Multi-player,Co-op,Online Co-op,LAN Co-op,Cross-Platform Multiplayer,Steam Achievements,Steam Trading Cards|[No descriptionEnglishNo description]|350000.0|9.99 JRPG,Lovecraftian,Comedy,RPG,Indie,Retro,Turn-Based,Fantasy,Funny,Singleplayer,Adventure,Parody,Pixel Graphics,2D,Great Soundtrack,Dark Humor,Old School,Action,Memes,Story Rich|Single-player,Full controller support,Steam Trading Cards,Remote Play on Phone,Remote Play on Tablet,Remote Play on TV|[No descriptionEnglishNo description]|750000.0|2.99 JRPG,RPG,Funny,Indie,Retro,Comedy,Pixel Graphics,Turn-Based,Singleplayer,Parody,Short,Fantasy,2D,Adventure,Old School,Horror|Single-player,Full controller support|[No descriptionEnglishNo description]|750000.0|2.99\""
   ]
  },
  {
   "cell_type": "markdown",
   "metadata": {
    "id": "6t4yLB10_InD"
   },
   "source": [
    "<h3>Collaborative filtering Model</h3>"
   ]
  },
  {
   "cell_type": "code",
   "execution_count": null,
   "metadata": {
    "colab": {
     "base_uri": "https://localhost:8080/"
    },
    "executionInfo": {
     "elapsed": 320,
     "status": "ok",
     "timestamp": 1740690465867,
     "user": {
      "displayName": "Renan Vital",
      "userId": "08386351516551531286"
     },
     "user_tz": 180
    },
    "id": "60QI_KNX4KIM",
    "outputId": "70f049ad-60dc-474a-8bb0-fdd497e598b0"
   },
   "outputs": [
    {
     "name": "stdout",
     "output_type": "stream",
     "text": [
      "Recommendation based on other players with similar gaming taste:\n",
      " ['secretsofgrindea', 'spiralknights', 'unturned', 'defiance', 'halflife2episodeone', 'left4dead', 'halflife2', 'halflife', 'counterstrikeconditionzero', 'teamfortress2', 'redfactionguerrillasteamedition', 'doubleactionboogaloo', 'halflife2deathmatch', 'portal', 'sniperelite', 'killingfloor', 'hitmanabsolution', 'reignofkings', 'halflifeopposingforce', 'sourcefilmmaker', 'worldofgunsgundisassembly', 'farcry3', 'portal2', 'dayofdefeatsource', 'halflife2episodetwo', 'left4dead2', 'payday2', 'sidmeierscivilizationv', 'garrysmod', 'counterstrikesource', 'dcuniverseonline']\n",
      "\n",
      "\n",
      "Label - other purchased games from the same user that weren't used on inference:\n",
      " ['halflife', 'halflifeopposingforce', 'huntsmantheorphanagehalloweenedition', 'raceroomracingexperience', 'ricochet', 'scourgeoutbreak', 'teamfortressclassic', 'halflifeblueshift']\n",
      "\n",
      "\n",
      "Overlay between Label and recommendation:\n",
      " ['halflifeopposingforce', 'halflife']\n",
      "\n",
      "\n",
      "Accuracy:\n",
      " 0.25\n"
     ]
    }
   ],
   "source": [
    "collab_results = VS_collab_based.similarity_search(\n",
    "  str(New_inference),\n",
    "  k=10,\n",
    "  )\n",
    "\n",
    "New_inference = [item.split(',')[0] for item in New_inference]\n",
    "colab_base_rec = [result.page_content for result  in collab_results]\n",
    "full_list=[]\n",
    "for i in collab_results:\n",
    "  converted_lists = ast.literal_eval(i.page_content)\n",
    "  converted_lists = list(set(converted_lists))\n",
    "  converted_lists = [item.split(',')[0] for item in converted_lists]\n",
    "  full_list.append(converted_lists)\n",
    "\n",
    "colab_base_rec = list(set([item for sublist in full_list for item in sublist]))\n",
    "colab_base_rec = list(set(colab_base_rec)-set(New_inference))\n",
    "\n",
    "print(\"Recommendation based on other players with similar gaming taste:\\n\",colab_base_rec)\n",
    "print(\"\\n\\nLabel - other purchased games from the same user that weren't used on inference:\\n\",label)\n",
    "print(\"\\n\\nOverlay between Label and recommendation:\\n\",list(set(colab_base_rec) & set(label)))\n",
    "print(\"\\n\\nAccuracy:\\n\",len(list(set(colab_base_rec) & set(label)))/len(label))"
   ]
  },
  {
   "cell_type": "markdown",
   "metadata": {
    "id": "N3WEAZQ__o3D"
   },
   "source": [
    "----"
   ]
  },
  {
   "cell_type": "markdown",
   "metadata": {
    "id": "e1lZ95hX_ss1"
   },
   "source": [
    "<h3>Content based Model</h3>"
   ]
  },
  {
   "cell_type": "code",
   "execution_count": 170,
   "metadata": {
    "colab": {
     "base_uri": "https://localhost:8080/"
    },
    "executionInfo": {
     "elapsed": 437,
     "status": "ok",
     "timestamp": 1740690467590,
     "user": {
      "displayName": "Renan Vital",
      "userId": "08386351516551531286"
     },
     "user_tz": 180
    },
    "id": "4QmwktAD1xPM",
    "outputId": "ed4f9fd1-54b8-4915-b9a2-bdc492fd25e4"
   },
   "outputs": [
    {
     "name": "stdout",
     "output_type": "stream",
     "text": [
      "Recommendation based on similar games the user engajed:\n",
      " ['counterstrikeconditionzero', 'doorkickers', 'teamfortressclassic', 'divinityoriginalsinenhancededition', 'halospartanassault', 'naturalselection2', 'torchlightii', 'borderlands2', 'depth', 'calltoarms', 'dota2', 'sanctum2', 'tomclancysrainbowsixsiege', 'mondaynightcombat', 'mitosisthegame', 'herosiege', 'fableanniversary', 'primalcarnageextinction', 'nationred', 'payday2', 'cronix', 'wargamereddragon', 'ofguardsandthieves', 'primeworld', 'fistfuloffrags', 'killingfloor2', 'left4dead2', 'combatmonsters', 'eyedivinecybermancy', 'dungeondefenders']\n",
      "\n",
      "\n",
      "Label - other purchased games from the same user that weren't used on inference:\n",
      " ['halflife', 'halflifeopposingforce', 'huntsmantheorphanagehalloweenedition', 'raceroomracingexperience', 'ricochet', 'scourgeoutbreak', 'teamfortressclassic', 'halflifeblueshift']\n",
      "\n",
      "\n",
      "Overlay between Label and recommendation:\n",
      " ['teamfortressclassic']\n",
      "\n",
      "\n",
      "Accuracy:\n",
      " 0.125\n"
     ]
    }
   ],
   "source": [
    "content_results = VS_content_based.similarity_search(\n",
    "  str(explicative_features_inference),\n",
    "  k=30,\n",
    "  )\n",
    "\n",
    "content_results_list=[]\n",
    "for i in content_results:\n",
    "  content_results_list.append(i.id)\n",
    "\n",
    "collab_results = list(set(content_results_list)-set(New_inference))\n",
    "print(\"Recommendation based on similar games the user engajed:\\n\",content_results_list)\n",
    "print(\"\\n\\nLabel - other purchased games from the same user that weren't used on inference:\\n\",label)\n",
    "print(\"\\n\\nOverlay between Label and recommendation:\\n\",list(set(content_results_list) & set(label)))\n",
    "print(\"\\n\\nAccuracy:\\n\",len(list(set(content_results_list) & set(label)))/len(label))"
   ]
  },
  {
   "cell_type": "markdown",
   "metadata": {
    "id": "xrW0ChwRNX9v"
   },
   "source": [
    "<h3>Hybrid based Model</h3>"
   ]
  },
  {
   "cell_type": "code",
   "execution_count": 171,
   "metadata": {
    "colab": {
     "base_uri": "https://localhost:8080/"
    },
    "executionInfo": {
     "elapsed": 17,
     "status": "ok",
     "timestamp": 1740690473054,
     "user": {
      "displayName": "Renan Vital",
      "userId": "08386351516551531286"
     },
     "user_tz": 180
    },
    "id": "_rM8UxLyNXt0",
    "outputId": "f76c842d-3581-4903-c638-702c656a4df6"
   },
   "outputs": [
    {
     "name": "stdout",
     "output_type": "stream",
     "text": [
      "Recommendation based on hybrid aproach (Collaborative & content based):\n",
      " ['counterstrikeconditionzero', 'left4dead2', 'payday2']\n",
      "\n",
      "\n",
      "Label - other purchased games from the same user that weren't used on inference:\n",
      " ['halflife', 'halflifeopposingforce', 'huntsmantheorphanagehalloweenedition', 'raceroomracingexperience', 'ricochet', 'scourgeoutbreak', 'teamfortressclassic', 'halflifeblueshift']\n",
      "\n",
      "\n",
      "Overlay between Label and recommendation:\n",
      " []\n",
      "\n",
      "\n",
      "Accuracy:\n",
      " 0.0\n"
     ]
    }
   ],
   "source": [
    "hybrid_results = list(set(content_results_list) & set(colab_base_rec))\n",
    "\n",
    "print(\"Recommendation based on hybrid aproach (Collaborative & content based):\\n\",hybrid_results)\n",
    "print(\"\\n\\nLabel - other purchased games from the same user that weren't used on inference:\\n\",label)\n",
    "print(\"\\n\\nOverlay between Label and recommendation:\\n\",list(set(hybrid_results) & set(label)))\n",
    "print(\"\\n\\nAccuracy:\\n\",len(list(set(hybrid_results) & set(label)))/len(label))"
   ]
  },
  {
   "cell_type": "markdown",
   "metadata": {
    "id": "1fi_QXfpPhC7"
   },
   "source": [
    "# It is important to remember that even if the recomendation isn't on user games list, it still likelly to purchase"
   ]
  },
  {
   "cell_type": "markdown",
   "metadata": {},
   "source": []
  }
 ],
 "metadata": {
  "colab": {
   "authorship_tag": "ABX9TyP+krM/RF8VmvL/HIiRkdvp",
   "mount_file_id": "1wwpU2VnSqM7wVGr8WXxNbAfEe7CyjrKl",
   "provenance": []
  },
  "kernelspec": {
   "display_name": "recommender",
   "language": "python",
   "name": "python3"
  },
  "language_info": {
   "codemirror_mode": {
    "name": "ipython",
    "version": 3
   },
   "file_extension": ".py",
   "mimetype": "text/x-python",
   "name": "python",
   "nbconvert_exporter": "python",
   "pygments_lexer": "ipython3",
   "version": "3.13.2"
  }
 },
 "nbformat": 4,
 "nbformat_minor": 0
}
